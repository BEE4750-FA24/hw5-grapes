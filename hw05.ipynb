{
  "cells": [
    {
      "cell_type": "markdown",
      "id": "f25056fc-44dd-4baa-88ff-b2e879a9d2c4",
      "metadata": {},
      "source": [
        "# BEE 4750 Homework 5: Mixed Integer and Stochastic Programming\n",
        "\n",
        "**Name**: MacKenzie Fountain\n",
        "\n",
        "**ID**: 5362163\n",
        "\n",
        "> **Due Date**\n",
        ">\n",
        "> Thursday, 12/05/24, 9:00pm\n",
        "\n",
        "## Overview"
      ]
    },
    {
      "cell_type": "markdown",
      "id": "bdc61f0a-d224-4e85-9d0f-dc78118e17b2",
      "metadata": {},
      "source": [
        "### Instructions\n",
        "\n",
        "-   In Problem 1, you will use mixed integer programming to solve a\n",
        "    waste load allocation problem."
      ]
    },
    {
      "cell_type": "markdown",
      "id": "f28855a0-60d2-442e-b8ef-1ceaee826af6",
      "metadata": {},
      "source": [
        "### Load Environment\n",
        "\n",
        "The following code loads the environment and makes sure all needed\n",
        "packages are installed. This should be at the start of most Julia\n",
        "scripts."
      ]
    },
    {
      "cell_type": "code",
      "execution_count": null,
      "id": "2",
      "metadata": {},
      "outputs": [],
      "source": [
        "import Pkg\n",
        "Pkg.activate(@__DIR__)\n",
        "Pkg.instantiate()"
      ]
    },
    {
      "cell_type": "code",
      "execution_count": 2,
      "id": "4",
      "metadata": {},
      "outputs": [],
      "source": [
        "using JuMP\n",
        "using HiGHS\n",
        "using DataFrames\n",
        "using GraphRecipes\n",
        "using Plots\n",
        "using Measures\n",
        "using MarkdownTables"
      ]
    },
    {
      "cell_type": "markdown",
      "id": "7cd4181d-a987-4e3a-8dad-cfdef5fb6270",
      "metadata": {},
      "source": [
        "## Problems (Total: 30 Points)\n",
        "\n",
        "### Problem 1 (30 points)\n",
        "\n",
        "Three cities are developing a coordinated municipal solid waste (MSW)\n",
        "disposal plan. Three disposal alternatives are being considered: a\n",
        "landfill (LF), a materials recycling facility (MRF), and a\n",
        "waste-to-energy facility (WTE). The capacities of these facilities and\n",
        "the fees for operation and disposal are provided below.\n",
        "\n",
        "-   **LF**: Capacity 200 Mg, fixed cost \\$2000/day, tipping cost\n",
        "    \\$50/Mg;\n",
        "-   **MRF**: Capacity 350 Mg, fixed cost \\$1500/day, tipping cost\n",
        "    \\$7/Mg, recycling cost \\$40/Mg recycled;\n",
        "-   **WTE**: Capacity 210 Mg, fixed cost \\$2500/day, tipping cost\n",
        "    \\$60/Mg;\n",
        "\n",
        "The MRF recycling rate is 40%, and the ash fraction of non-recycled\n",
        "waste is 16% and of recycled waste is 14%. Transportation costs are\n",
        "\\$1.5/Mg-km, and the relative distances between the cities and\n",
        "facilities are provided in the table below.\n",
        "\n",
        "| **City/Facility** | **Landfill (km)** | **MRF (km)** | **WTE (km)** |\n",
        "|:-----------------:|:-----------------:|:------------:|:------------:|\n",
        "|         1         |         5         |      30      |      15      |\n",
        "|         2         |        15         |      25      |      10      |\n",
        "|         3         |        13         |      45      |      20      |\n",
        "|        LF         |        \\-         |      32      |      18      |\n",
        "|        MRF        |        32         |      \\-      |      15      |\n",
        "|        WTE        |        18         |      15      |      \\-      |\n",
        "\n",
        "The fixed costs associated with the disposal options are incurred only\n",
        "if the particular disposal option is implemented. The three cities\n",
        "produce 100, 90, and 120 Mg/day of solid waste, respectively, with the\n",
        "composition provided in the table below.\n",
        "\n",
        "**Reminder**: Use `round(x; digits=n)` to report values to the\n",
        "appropriate precision!\n",
        "\n",
        "**In this problem**:\n",
        "\n",
        "-   Formulate the waste load allocation problem and implement it in\n",
        "    `JuMP`.\n",
        "-   Draw a diagram showing the flows of waste between the cities and the\n",
        "    facilities. Which facilities (if any) will not be used? Does this\n",
        "    solution make sense?"
      ]
    },
    {
      "cell_type": "code",
      "execution_count": null,
      "id": "6fc150ef",
      "metadata": {},
      "outputs": [],
      "source": [
        "# Initialize the model\n",
        "m = Model(HiGHS.Optimizer)\n",
        "\n",
        "# Define decision variables\n",
        "@variable(m, W11 >= 0)\n",
        "@variable(m, W12 >= 0)\n",
        "@variable(m, W13 >= 0)\n",
        "@variable(m, W21 >= 0)\n",
        "@variable(m, W22 >= 0)\n",
        "@variable(m, W23 >= 0)\n",
        "@variable(m, W31 >= 0)\n",
        "@variable(m, W32 >= 0)\n",
        "@variable(m, W33 >= 0)\n",
        "@variable(m, Y[0:2], Bin)  # Binary variables\n",
        "@variable(m, R21 >= 0)\n",
        "@variable(m, R13 >= 0)\n",
        "@variable(m, R23 >= 0)\n",
        "\n",
        "# Define the objective function\n",
        "@objective(m, Min, \n",
        "    82.5 * W11 + 75 * W21 + 90 * W31 +\n",
        "    68 * W12 + 60.5 * W22 + 90.5 * W32 +\n",
        "    57.5 * W13 + 72.5 * W23 + 69.5 * W33 +\n",
        "    82.5 * R21 + 77 * R13 + 98 * R23 +\n",
        "    2500 * Y[0] + 1500 * Y[1] + 2000 * Y[2]\n",
        ")\n",
        "\n",
        "# Add constraints\n",
        "@constraint(m, W11 + W12 + W13 == 100)\n",
        "@constraint(m, W21 + W22 + W23 == 90)\n",
        "@constraint(m, W31 + W32 + W33 == 120)\n",
        "\n",
        "@constraint(m, 0.16 * (W11 + W21 + R21) == R13)\n",
        "@constraint(m, 0.30 * (W12 + W22) == R21 + R23)\n",
        "\n",
        "@constraint(m, W11 + W21 + W31 + R21 <= 210)\n",
        "@constraint(m, W12 + W22 + W32 <= 350)\n",
        "@constraint(m, W13 + W23 + W33 + R23 + R13 <= 200)\n",
        "\n",
        "# Logical constraints using big-M method\n",
        "big_M = 1e6  # Adjust this value based on problem scale\n",
        "\n",
        "@constraint(m, W11 + W21 + R21 <= big_M * (1 - Y[2]))\n",
        "@constraint(m, W12 + W22 <= big_M * (1 - Y[2]))\n",
        "\n",
        "# Ensure Y[2] is active\n",
        "@constraint(m, Y[2] == 1)\n"
      ]
    },
    {
      "cell_type": "code",
      "execution_count": 13,
      "id": "cb4cee91",
      "metadata": {},
      "outputs": [
        {
          "name": "stdout",
          "output_type": "stream",
          "text": [
            "Coefficient ranges:\n",
            "  Matrix [2e-01, 1e+06]\n",
            "  Cost   [6e+01, 2e+03]\n",
            "  Bound  [1e+00, 1e+00]\n",
            "  RHS    [1e+00, 1e+06]\n",
            "Presolving model\n",
            "1 rows, 2 cols, 2 nonzeros  0s\n",
            "0 rows, 0 cols, 0 nonzeros  0s\n",
            "Presolve: Optimal\n",
            "\n",
            "Src: B => Branching; C => Central rounding; F => Feasibility pump; H => Heuristic; L => Sub-MIP;\n",
            "     P => Empty MIP; R => Randomized rounding; S => Solve LP; T => Evaluate node; U => Unbounded;\n",
            "     z => Trivial zero; l => Trivial lower; u => Trivial upper; p => Trivial point\n",
            "\n",
            "        Nodes      |    B&B Tree     |            Objective Bounds              |  Dynamic Constraints |       Work      \n",
            "Src  Proc. InQueue |  Leaves   Expl. | BestBound       BestSol              Gap |   Cuts   InLp Confl. | LpIters     Time\n",
            "\n",
            "         0       0         0   0.00%   24870           24870              0.00%        0      0      0         0     0.0s\n",
            "\n",
            "Solving report\n",
            "  Status            Optimal\n",
            "  Primal bound      24870\n",
            "  Dual bound        24870\n",
            "  Gap               0% (tolerance: 0.01%)\n",
            "  P-D integral      0\n",
            "  Solution status   feasible\n",
            "                    24870 (objective)\n",
            "                    0 (bound viol.)\n",
            "                    0 (int. viol.)\n",
            "                    0 (row viol.)\n",
            "  Timing            0.01 (total)\n",
            "                    0.00 (presolve)\n",
            "                    0.00 (solve)\n",
            "                    0.00 (postsolve)\n",
            "  Max sub-MIP depth 0\n",
            "  Nodes             0\n",
            "  Repair LPs        0 (0 feasible; 0 iterations)\n",
            "  LP iterations     0 (total)\n",
            "                    0 (strong br.)\n",
            "                    0 (separation)\n",
            "                    0 (heuristics)\n"
          ]
        }
      ],
      "source": [
        "optimize!(m)"
      ]
    },
    {
      "cell_type": "code",
      "execution_count": 16,
      "id": "112364d7",
      "metadata": {},
      "outputs": [
        {
          "name": "stdout",
          "output_type": "stream",
          "text": [
            "\n",
            "The Objective Value = 24870.0\n",
            "Optimized W matrix:\n",
            "[0.0 0.0 100.0; 0.0 0.0 90.0; 110.0 0.0 10.0]\n"
          ]
        }
      ],
      "source": [
        "print(\"\n",
        "The Objective Value = \", objective_value(m))\n",
        "\n",
        "# Initialize a matrix to store the values\n",
        "W_values = zeros(3, 3)  # Adjust the dimensions as needed\n",
        "\n",
        "# Populate the matrix with the optimized values\n",
        "W_values[1, 1] = value(W11)\n",
        "W_values[1, 2] = value(W12)\n",
        "W_values[1, 3] = value(W13)\n",
        "W_values[2, 1] = value(W21)\n",
        "W_values[2, 2] = value(W22)\n",
        "W_values[2, 3] = value(W23)\n",
        "W_values[3, 1] = value(W31)\n",
        "W_values[3, 2] = value(W32)\n",
        "W_values[3, 3] = value(W33)\n",
        "\n",
        "# Display the matrix\n",
        "println(\"\n",
        "Optimized W matrix:\")\n",
        "println(W_values)\n"
      ]
    },
    {
      "cell_type": "markdown",
      "id": "32de379a",
      "metadata": {},
      "source": [
        "#### Discussion\n",
        "\n",
        "MRF Facitlity will not be used. MRF is avoided due to its high total cost (tipping + recycling) compared to the other options. By using only LF and WTE, the plan avoids unnecessary recycling expenses.\n",
        "\n"
      ]
    },
    {
      "cell_type": "markdown",
      "id": "b6d659ee-115e-43c3-81d4-56c4aaf92fb7",
      "metadata": {},
      "source": [
        "## References\n",
        "\n",
        "* Chat GPT was used to debug the model's Big M constraint\n",
        "* BEE 4750 Lecture 12"
      ]
    }
  ],
  "metadata": {
    "kernel_info": {
      "name": "julia"
    },
    "kernelspec": {
      "display_name": "Julia 1.10.5",
      "language": "julia",
      "name": "julia-1.10"
    },
    "language_info": {
      "file_extension": ".jl",
      "mimetype": "application/julia",
      "name": "julia",
      "version": "1.10.5"
    }
  },
  "nbformat": 4,
  "nbformat_minor": 5
}
